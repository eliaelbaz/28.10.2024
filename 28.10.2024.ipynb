{
 "cells": [
  {
   "cell_type": "markdown",
   "id": "f6304e92-11b8-4ef3-becb-113c0e550561",
   "metadata": {},
   "source": [
    "# 1\n",
    "# Data Science זה תחום שמטרתו להבין ולהפיק תובנות מנתונים.זה משלב ידע ויכולות מסטטיסטיקה, מתמטיקה, מדעי המחשב, ותחומים נוספים כדי לנתח כמויות גדולות של נתונים, לזהות דפוסים ולספק תחזיות או תובנות שיכולות לתמוך בקבלת החלטות"
   ]
  },
  {
   "cell_type": "markdown",
   "id": "d84deda0-63b7-4b0a-b0ed-c7dbbabd355e",
   "metadata": {},
   "source": [
    "# 2 \n",
    "# Structured Data הוא נתונים מסודרים כמו טבלאות, Unstructured Data זה נתונים לא מסודרים כמו תמונות וטקסט"
   ]
  },
  {
   "cell_type": "markdown",
   "id": "9dc1f534-425e-4ff4-bbbf-1e896af47301",
   "metadata": {},
   "source": [
    "# 3\n",
    "# Exploratory Data Analysis זה תהליך חקירה ראשוני של הנתונים כדי שנבין אותם טוב יותר"
   ]
  },
  {
   "cell_type": "markdown",
   "id": "1f95e496-2552-402b-af6a-60e394015718",
   "metadata": {},
   "source": [
    "# 4 \n",
    "# לשפור את ההחלטות העסקיות, לחזות מגמות, ולהגדיל את הרווחים"
   ]
  },
  {
   "cell_type": "markdown",
   "id": "c30c1b3e-6d49-4098-ba45-065ff7ae2519",
   "metadata": {},
   "source": [
    "# 5\n",
    "# כלים מבוססים על בינה מלאכותית שמסייעים בניתוח ותובנות מתוך נתונים גדולים"
   ]
  },
  {
   "cell_type": "markdown",
   "id": "0ad371ab-d841-4a0d-963a-90a8a1109108",
   "metadata": {},
   "source": [
    "# 6 \n",
    "# Pandas, Numpy"
   ]
  },
  {
   "cell_type": "markdown",
   "id": "a6676296-b1bb-45dd-9539-39162c3acf66",
   "metadata": {},
   "source": [
    "# 7\n",
    "# Jupyter זה כלי חזותי נהדר שאפשר להדפיס איתו דברים בצבעים כותרות יפות ונראה לעין מצויין בניגוד ל paycarm "
   ]
  },
  {
   "cell_type": "markdown",
   "id": "6b71a553-c91e-4c01-87bd-cd709c5d983d",
   "metadata": {},
   "source": [
    "# 8\n",
    "# מאפשר להריץ פקודות מערכת מתוך Jupyter Notebook."
   ]
  },
  {
   "cell_type": "code",
   "execution_count": 1,
   "id": "e5bebfb9-4e07-460c-9122-8361924a269f",
   "metadata": {},
   "outputs": [
    {
     "name": "stdout",
     "output_type": "stream",
     "text": [
      "1\n",
      "2\n",
      "3\n",
      "4\n",
      "5\n",
      "6\n",
      "7\n",
      "8\n",
      "9\n",
      "10\n"
     ]
    }
   ],
   "source": [
    "# a\n",
    "for i in range(1, 11):\n",
    "    print(i)"
   ]
  },
  {
   "cell_type": "code",
   "execution_count": 3,
   "id": "ca0a57c7-0fed-42f3-87c9-a843bda7fdfe",
   "metadata": {},
   "outputs": [],
   "source": [
    "# b\n",
    "import numpy as np"
   ]
  },
  {
   "cell_type": "code",
   "execution_count": 5,
   "id": "ce962f81-9c10-4b8b-a00e-32d3f798e388",
   "metadata": {
    "scrolled": true
   },
   "outputs": [
    {
     "name": "stdout",
     "output_type": "stream",
     "text": [
      "[1 2 3]\n"
     ]
    }
   ],
   "source": [
    "# c\n",
    "array = np.array([1, 2, 3])\n",
    "print(array)"
   ]
  }
 ],
 "metadata": {
  "kernelspec": {
   "display_name": "Python 3 (ipykernel)",
   "language": "python",
   "name": "python3"
  },
  "language_info": {
   "codemirror_mode": {
    "name": "ipython",
    "version": 3
   },
   "file_extension": ".py",
   "mimetype": "text/x-python",
   "name": "python",
   "nbconvert_exporter": "python",
   "pygments_lexer": "ipython3",
   "version": "3.12.7"
  }
 },
 "nbformat": 4,
 "nbformat_minor": 5
}
